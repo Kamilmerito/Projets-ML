{
  "nbformat": 4,
  "nbformat_minor": 0,
  "metadata": {
    "colab": {
      "name": "PROJET 0",
      "provenance": [],
      "authorship_tag": "ABX9TyNj8lO872SWSugS1sQZ8Tlm",
      "include_colab_link": true
    },
    "kernelspec": {
      "name": "python3",
      "display_name": "Python 3"
    },
    "language_info": {
      "name": "python"
    }
  },
  "cells": [
    {
      "cell_type": "markdown",
      "metadata": {
        "id": "view-in-github",
        "colab_type": "text"
      },
      "source": [
        "<a href=\"https://colab.research.google.com/github/Kamilmerito/Projets-ML/blob/main/PROJET_0.ipynb\" target=\"_parent\"><img src=\"https://colab.research.google.com/assets/colab-badge.svg\" alt=\"Open In Colab\"/></a>"
      ]
    },
    {
      "cell_type": "markdown",
      "metadata": {
        "id": "TZASWXUhTOJm"
      },
      "source": [
        "**partie 1**"
      ]
    },
    {
      "cell_type": "markdown",
      "metadata": {
        "id": "9PbxHs2lZlT2"
      },
      "source": [
        "**Analyse d'une campagne marketing avec pandas**"
      ]
    },
    {
      "cell_type": "code",
      "metadata": {
        "id": "dBdqldBvZkGP"
      },
      "source": [
        "import pandas as pd\n",
        "import numpy as np\n",
        "import matplotlib.pyplot as plt\n",
        "import seaborn as sns"
      ],
      "execution_count": 45,
      "outputs": []
    },
    {
      "cell_type": "code",
      "metadata": {
        "id": "se-MH9vjaMXe",
        "colab": {
          "base_uri": "https://localhost:8080/",
          "height": 427
        },
        "outputId": "04cb5131-bb32-432d-c59a-21e694e2e9f4"
      },
      "source": [
        "#impôrtation des données\n",
        "marketing_df=pd.read_csv('https://raw.githubusercontent.com/JosueAfouda/Marketing-Pandas/master/marketing.csv')\n",
        "marketing_df"
      ],
      "execution_count": 46,
      "outputs": [
        {
          "output_type": "execute_result",
          "data": {
            "text/html": [
              "<div>\n",
              "<style scoped>\n",
              "    .dataframe tbody tr th:only-of-type {\n",
              "        vertical-align: middle;\n",
              "    }\n",
              "\n",
              "    .dataframe tbody tr th {\n",
              "        vertical-align: top;\n",
              "    }\n",
              "\n",
              "    .dataframe thead th {\n",
              "        text-align: right;\n",
              "    }\n",
              "</style>\n",
              "<table border=\"1\" class=\"dataframe\">\n",
              "  <thead>\n",
              "    <tr style=\"text-align: right;\">\n",
              "      <th></th>\n",
              "      <th>user_id</th>\n",
              "      <th>date_served</th>\n",
              "      <th>marketing_channel</th>\n",
              "      <th>variant</th>\n",
              "      <th>converted</th>\n",
              "      <th>language_displayed</th>\n",
              "      <th>language_preferred</th>\n",
              "      <th>age_group</th>\n",
              "      <th>date_subscribed</th>\n",
              "      <th>date_canceled</th>\n",
              "      <th>subscribing_channel</th>\n",
              "      <th>is_retained</th>\n",
              "    </tr>\n",
              "  </thead>\n",
              "  <tbody>\n",
              "    <tr>\n",
              "      <th>0</th>\n",
              "      <td>a100000029</td>\n",
              "      <td>1/1/18</td>\n",
              "      <td>House Ads</td>\n",
              "      <td>personalization</td>\n",
              "      <td>True</td>\n",
              "      <td>English</td>\n",
              "      <td>English</td>\n",
              "      <td>0-18 years</td>\n",
              "      <td>1/1/18</td>\n",
              "      <td>NaN</td>\n",
              "      <td>House Ads</td>\n",
              "      <td>True</td>\n",
              "    </tr>\n",
              "    <tr>\n",
              "      <th>1</th>\n",
              "      <td>a100000030</td>\n",
              "      <td>1/1/18</td>\n",
              "      <td>House Ads</td>\n",
              "      <td>personalization</td>\n",
              "      <td>True</td>\n",
              "      <td>English</td>\n",
              "      <td>English</td>\n",
              "      <td>19-24 years</td>\n",
              "      <td>1/1/18</td>\n",
              "      <td>NaN</td>\n",
              "      <td>House Ads</td>\n",
              "      <td>True</td>\n",
              "    </tr>\n",
              "    <tr>\n",
              "      <th>2</th>\n",
              "      <td>a100000031</td>\n",
              "      <td>1/1/18</td>\n",
              "      <td>House Ads</td>\n",
              "      <td>personalization</td>\n",
              "      <td>True</td>\n",
              "      <td>English</td>\n",
              "      <td>English</td>\n",
              "      <td>24-30 years</td>\n",
              "      <td>1/1/18</td>\n",
              "      <td>NaN</td>\n",
              "      <td>House Ads</td>\n",
              "      <td>True</td>\n",
              "    </tr>\n",
              "    <tr>\n",
              "      <th>3</th>\n",
              "      <td>a100000032</td>\n",
              "      <td>1/1/18</td>\n",
              "      <td>House Ads</td>\n",
              "      <td>personalization</td>\n",
              "      <td>True</td>\n",
              "      <td>English</td>\n",
              "      <td>English</td>\n",
              "      <td>30-36 years</td>\n",
              "      <td>1/1/18</td>\n",
              "      <td>NaN</td>\n",
              "      <td>House Ads</td>\n",
              "      <td>True</td>\n",
              "    </tr>\n",
              "    <tr>\n",
              "      <th>4</th>\n",
              "      <td>a100000033</td>\n",
              "      <td>1/1/18</td>\n",
              "      <td>House Ads</td>\n",
              "      <td>personalization</td>\n",
              "      <td>True</td>\n",
              "      <td>English</td>\n",
              "      <td>English</td>\n",
              "      <td>36-45 years</td>\n",
              "      <td>1/1/18</td>\n",
              "      <td>NaN</td>\n",
              "      <td>House Ads</td>\n",
              "      <td>True</td>\n",
              "    </tr>\n",
              "    <tr>\n",
              "      <th>...</th>\n",
              "      <td>...</td>\n",
              "      <td>...</td>\n",
              "      <td>...</td>\n",
              "      <td>...</td>\n",
              "      <td>...</td>\n",
              "      <td>...</td>\n",
              "      <td>...</td>\n",
              "      <td>...</td>\n",
              "      <td>...</td>\n",
              "      <td>...</td>\n",
              "      <td>...</td>\n",
              "      <td>...</td>\n",
              "    </tr>\n",
              "    <tr>\n",
              "      <th>10032</th>\n",
              "      <td>a100007290</td>\n",
              "      <td>1/17/18</td>\n",
              "      <td>Email</td>\n",
              "      <td>control</td>\n",
              "      <td>True</td>\n",
              "      <td>German</td>\n",
              "      <td>German</td>\n",
              "      <td>45-55 years</td>\n",
              "      <td>1/17/18</td>\n",
              "      <td>1/24/18</td>\n",
              "      <td>Email</td>\n",
              "      <td>False</td>\n",
              "    </tr>\n",
              "    <tr>\n",
              "      <th>10033</th>\n",
              "      <td>a100007291</td>\n",
              "      <td>1/17/18</td>\n",
              "      <td>Email</td>\n",
              "      <td>control</td>\n",
              "      <td>True</td>\n",
              "      <td>German</td>\n",
              "      <td>German</td>\n",
              "      <td>55+ years</td>\n",
              "      <td>1/17/18</td>\n",
              "      <td>NaN</td>\n",
              "      <td>Email</td>\n",
              "      <td>True</td>\n",
              "    </tr>\n",
              "    <tr>\n",
              "      <th>10034</th>\n",
              "      <td>a100007292</td>\n",
              "      <td>1/5/18</td>\n",
              "      <td>Instagram</td>\n",
              "      <td>control</td>\n",
              "      <td>False</td>\n",
              "      <td>German</td>\n",
              "      <td>German</td>\n",
              "      <td>55+ years</td>\n",
              "      <td>1/17/18</td>\n",
              "      <td>NaN</td>\n",
              "      <td>Email</td>\n",
              "      <td>True</td>\n",
              "    </tr>\n",
              "    <tr>\n",
              "      <th>10035</th>\n",
              "      <td>a100007293</td>\n",
              "      <td>1/17/18</td>\n",
              "      <td>Email</td>\n",
              "      <td>control</td>\n",
              "      <td>True</td>\n",
              "      <td>German</td>\n",
              "      <td>German</td>\n",
              "      <td>0-18 years</td>\n",
              "      <td>1/17/18</td>\n",
              "      <td>NaN</td>\n",
              "      <td>Email</td>\n",
              "      <td>True</td>\n",
              "    </tr>\n",
              "    <tr>\n",
              "      <th>10036</th>\n",
              "      <td>a100007294</td>\n",
              "      <td>1/6/18</td>\n",
              "      <td>Facebook</td>\n",
              "      <td>control</td>\n",
              "      <td>False</td>\n",
              "      <td>German</td>\n",
              "      <td>German</td>\n",
              "      <td>0-18 years</td>\n",
              "      <td>1/17/18</td>\n",
              "      <td>NaN</td>\n",
              "      <td>Email</td>\n",
              "      <td>True</td>\n",
              "    </tr>\n",
              "  </tbody>\n",
              "</table>\n",
              "<p>10037 rows × 12 columns</p>\n",
              "</div>"
            ],
            "text/plain": [
              "          user_id date_served  ... subscribing_channel is_retained\n",
              "0      a100000029      1/1/18  ...           House Ads        True\n",
              "1      a100000030      1/1/18  ...           House Ads        True\n",
              "2      a100000031      1/1/18  ...           House Ads        True\n",
              "3      a100000032      1/1/18  ...           House Ads        True\n",
              "4      a100000033      1/1/18  ...           House Ads        True\n",
              "...           ...         ...  ...                 ...         ...\n",
              "10032  a100007290     1/17/18  ...               Email       False\n",
              "10033  a100007291     1/17/18  ...               Email        True\n",
              "10034  a100007292      1/5/18  ...               Email        True\n",
              "10035  a100007293     1/17/18  ...               Email        True\n",
              "10036  a100007294      1/6/18  ...               Email        True\n",
              "\n",
              "[10037 rows x 12 columns]"
            ]
          },
          "metadata": {
            "tags": []
          },
          "execution_count": 46
        }
      ]
    },
    {
      "cell_type": "code",
      "metadata": {
        "id": "m_1Pb9E6bLuL",
        "colab": {
          "base_uri": "https://localhost:8080/",
          "height": 618
        },
        "outputId": "c4a12c6b-ae5d-4a89-c351-e750199d243c"
      },
      "source": [
        "print(marketing_df.info())\n",
        "print('\\n')\n",
        "marketing_df.head()"
      ],
      "execution_count": 47,
      "outputs": [
        {
          "output_type": "stream",
          "text": [
            "<class 'pandas.core.frame.DataFrame'>\n",
            "RangeIndex: 10037 entries, 0 to 10036\n",
            "Data columns (total 12 columns):\n",
            " #   Column               Non-Null Count  Dtype \n",
            "---  ------               --------------  ----- \n",
            " 0   user_id              10037 non-null  object\n",
            " 1   date_served          10021 non-null  object\n",
            " 2   marketing_channel    10022 non-null  object\n",
            " 3   variant              10037 non-null  object\n",
            " 4   converted            10022 non-null  object\n",
            " 5   language_displayed   10037 non-null  object\n",
            " 6   language_preferred   10037 non-null  object\n",
            " 7   age_group            10037 non-null  object\n",
            " 8   date_subscribed      1856 non-null   object\n",
            " 9   date_canceled        577 non-null    object\n",
            " 10  subscribing_channel  1856 non-null   object\n",
            " 11  is_retained          1856 non-null   object\n",
            "dtypes: object(12)\n",
            "memory usage: 941.1+ KB\n",
            "None\n",
            "\n",
            "\n"
          ],
          "name": "stdout"
        },
        {
          "output_type": "execute_result",
          "data": {
            "text/html": [
              "<div>\n",
              "<style scoped>\n",
              "    .dataframe tbody tr th:only-of-type {\n",
              "        vertical-align: middle;\n",
              "    }\n",
              "\n",
              "    .dataframe tbody tr th {\n",
              "        vertical-align: top;\n",
              "    }\n",
              "\n",
              "    .dataframe thead th {\n",
              "        text-align: right;\n",
              "    }\n",
              "</style>\n",
              "<table border=\"1\" class=\"dataframe\">\n",
              "  <thead>\n",
              "    <tr style=\"text-align: right;\">\n",
              "      <th></th>\n",
              "      <th>user_id</th>\n",
              "      <th>date_served</th>\n",
              "      <th>marketing_channel</th>\n",
              "      <th>variant</th>\n",
              "      <th>converted</th>\n",
              "      <th>language_displayed</th>\n",
              "      <th>language_preferred</th>\n",
              "      <th>age_group</th>\n",
              "      <th>date_subscribed</th>\n",
              "      <th>date_canceled</th>\n",
              "      <th>subscribing_channel</th>\n",
              "      <th>is_retained</th>\n",
              "    </tr>\n",
              "  </thead>\n",
              "  <tbody>\n",
              "    <tr>\n",
              "      <th>0</th>\n",
              "      <td>a100000029</td>\n",
              "      <td>1/1/18</td>\n",
              "      <td>House Ads</td>\n",
              "      <td>personalization</td>\n",
              "      <td>True</td>\n",
              "      <td>English</td>\n",
              "      <td>English</td>\n",
              "      <td>0-18 years</td>\n",
              "      <td>1/1/18</td>\n",
              "      <td>NaN</td>\n",
              "      <td>House Ads</td>\n",
              "      <td>True</td>\n",
              "    </tr>\n",
              "    <tr>\n",
              "      <th>1</th>\n",
              "      <td>a100000030</td>\n",
              "      <td>1/1/18</td>\n",
              "      <td>House Ads</td>\n",
              "      <td>personalization</td>\n",
              "      <td>True</td>\n",
              "      <td>English</td>\n",
              "      <td>English</td>\n",
              "      <td>19-24 years</td>\n",
              "      <td>1/1/18</td>\n",
              "      <td>NaN</td>\n",
              "      <td>House Ads</td>\n",
              "      <td>True</td>\n",
              "    </tr>\n",
              "    <tr>\n",
              "      <th>2</th>\n",
              "      <td>a100000031</td>\n",
              "      <td>1/1/18</td>\n",
              "      <td>House Ads</td>\n",
              "      <td>personalization</td>\n",
              "      <td>True</td>\n",
              "      <td>English</td>\n",
              "      <td>English</td>\n",
              "      <td>24-30 years</td>\n",
              "      <td>1/1/18</td>\n",
              "      <td>NaN</td>\n",
              "      <td>House Ads</td>\n",
              "      <td>True</td>\n",
              "    </tr>\n",
              "    <tr>\n",
              "      <th>3</th>\n",
              "      <td>a100000032</td>\n",
              "      <td>1/1/18</td>\n",
              "      <td>House Ads</td>\n",
              "      <td>personalization</td>\n",
              "      <td>True</td>\n",
              "      <td>English</td>\n",
              "      <td>English</td>\n",
              "      <td>30-36 years</td>\n",
              "      <td>1/1/18</td>\n",
              "      <td>NaN</td>\n",
              "      <td>House Ads</td>\n",
              "      <td>True</td>\n",
              "    </tr>\n",
              "    <tr>\n",
              "      <th>4</th>\n",
              "      <td>a100000033</td>\n",
              "      <td>1/1/18</td>\n",
              "      <td>House Ads</td>\n",
              "      <td>personalization</td>\n",
              "      <td>True</td>\n",
              "      <td>English</td>\n",
              "      <td>English</td>\n",
              "      <td>36-45 years</td>\n",
              "      <td>1/1/18</td>\n",
              "      <td>NaN</td>\n",
              "      <td>House Ads</td>\n",
              "      <td>True</td>\n",
              "    </tr>\n",
              "  </tbody>\n",
              "</table>\n",
              "</div>"
            ],
            "text/plain": [
              "      user_id date_served  ... subscribing_channel is_retained\n",
              "0  a100000029      1/1/18  ...           House Ads        True\n",
              "1  a100000030      1/1/18  ...           House Ads        True\n",
              "2  a100000031      1/1/18  ...           House Ads        True\n",
              "3  a100000032      1/1/18  ...           House Ads        True\n",
              "4  a100000033      1/1/18  ...           House Ads        True\n",
              "\n",
              "[5 rows x 12 columns]"
            ]
          },
          "metadata": {
            "tags": []
          },
          "execution_count": 47
        }
      ]
    },
    {
      "cell_type": "code",
      "metadata": {
        "id": "Giuiri-qdwHp"
      },
      "source": [
        "col=list(marketing_df.columns)\n"
      ],
      "execution_count": 48,
      "outputs": []
    },
    {
      "cell_type": "code",
      "metadata": {
        "id": "h7OnnCRdfain",
        "colab": {
          "base_uri": "https://localhost:8080/"
        },
        "outputId": "9b216b5c-9f2a-482f-8f26-1af75e6e886b"
      },
      "source": [
        "for col in marketing_df.select_dtypes('object'):\n",
        "  print(f'{col:-<10}{marketing_df[col].unique()}')"
      ],
      "execution_count": 49,
      "outputs": [
        {
          "output_type": "stream",
          "text": [
            "user_id---['a100000029' 'a100000030' 'a100000031' ... 'a100007292' 'a100007293'\n",
            " 'a100007294']\n",
            "date_served['1/1/18' '1/2/18' '1/3/18' '1/4/18' '1/5/18' '1/6/18' '1/7/18' '1/8/18'\n",
            " '1/9/18' '1/10/18' '1/11/18' '1/12/18' '1/13/18' '1/14/18' '1/15/18'\n",
            " '1/16/18' '1/17/18' '1/18/18' '1/19/18' '1/20/18' '1/21/18' '1/22/18'\n",
            " '1/23/18' '1/24/18' '1/25/18' '1/26/18' '1/27/18' '1/28/18' '1/29/18'\n",
            " '1/30/18' '1/31/18' nan]\n",
            "marketing_channel['House Ads' 'Push' 'Facebook' 'Instagram' 'Email' nan]\n",
            "variant---['personalization' 'control']\n",
            "converted-[True False nan]\n",
            "language_displayed['English' 'German' 'Arabic' 'Spanish']\n",
            "language_preferred['English' 'German' 'Arabic' 'Spanish']\n",
            "age_group-['0-18 years' '19-24 years' '24-30 years' '30-36 years' '36-45 years'\n",
            " '45-55 years' '55+ years']\n",
            "date_subscribed['1/1/18' '1/2/18' '1/3/18' '1/4/18' '1/5/18' '1/6/18' '1/7/18' '1/8/18'\n",
            " '1/9/18' '1/10/18' '1/11/18' '1/12/18' '1/13/18' '1/14/18' '1/15/18'\n",
            " '1/16/18' '1/17/18' '1/18/18' '1/19/18' '1/20/18' '1/21/18' '1/22/18'\n",
            " '1/23/18' '1/24/18' '1/25/18' '1/26/18' '1/27/18' '1/28/18' '1/29/18'\n",
            " '1/30/18' '1/31/18' nan]\n",
            "date_canceled[nan '1/18/18' '2/22/18' '3/9/18' '2/18/18' '3/3/18' '2/4/18' '1/9/18'\n",
            " '1/21/18' '2/19/18' '3/8/18' '2/5/18' '1/11/18' '1/6/18' '3/1/18'\n",
            " '4/2/18' '3/2/18' '1/5/18' '2/9/18' '3/25/18' '3/12/18' '3/10/18'\n",
            " '2/14/18' '1/23/18' '2/11/18' '4/13/18' '4/12/18' '4/3/18' '2/17/18'\n",
            " '4/14/18' '2/3/18' '1/8/18' '1/27/18' '3/11/18' '2/21/18' '2/25/18'\n",
            " '3/5/18' '4/16/18' '2/6/18' '1/14/18' '3/13/18' '3/19/18' '2/10/18'\n",
            " '3/30/18' '1/15/18' '3/7/18' '4/10/18' '3/26/18' '4/19/18' '3/4/18'\n",
            " '1/26/18' '4/5/18' '3/15/18' '4/22/18' '4/29/18' '4/17/18' '2/8/18'\n",
            " '1/25/18' '3/27/18' '2/20/18' '2/24/18' '2/12/18' '3/17/18' '3/29/18'\n",
            " '2/16/18' '4/6/18' '4/9/18' '3/23/18' '5/9/18' '3/20/18' '1/28/18'\n",
            " '3/22/18' '2/1/18' '3/31/18' '1/31/18' '3/28/18' '4/8/18' '1/24/18'\n",
            " '1/22/18' '2/28/18' '4/27/18' '1/29/18' '5/2/18' '4/7/18' '2/15/18'\n",
            " '1/10/18' '2/26/18' '1/19/18' '2/23/18' '4/21/18' '2/13/18' '1/30/18'\n",
            " '2/7/18' '4/4/18' '4/26/18' '1/16/18' '4/1/18' '5/4/18' '4/28/18'\n",
            " '3/6/18' '3/24/18' '1/7/18' '1/12/18' '3/18/18' '1/13/18' '1/20/18'\n",
            " '3/16/18' '4/11/18' '1/17/18' '4/20/18' '5/1/18' '4/23/18' '2/2/18'\n",
            " '4/25/18' '4/30/18' '5/7/18']\n",
            "subscribing_channel['House Ads' 'Email' 'Push' 'Facebook' 'Instagram' nan]\n",
            "is_retained[True False nan]\n"
          ],
          "name": "stdout"
        }
      ]
    },
    {
      "cell_type": "markdown",
      "metadata": {
        "id": "FLmUCnBQzoK5"
      },
      "source": [
        "Les variables **date_serverd,date_subscribed et date_canceled** sont des dates  et ne sont pas au bon format. Nous mettrons ces variables au format 'Datetime'."
      ]
    },
    {
      "cell_type": "markdown",
      "metadata": {
        "id": "QqfhrQ5M0LqV"
      },
      "source": [
        "# statistique"
      ]
    },
    {
      "cell_type": "code",
      "metadata": {
        "id": "l4AAjUqPubYa",
        "colab": {
          "base_uri": "https://localhost:8080/",
          "height": 408
        },
        "outputId": "ce5e0469-e378-4b8e-add3-ef2b8a4d49a2"
      },
      "source": [
        "marketing_df.describe().T"
      ],
      "execution_count": 50,
      "outputs": [
        {
          "output_type": "execute_result",
          "data": {
            "text/html": [
              "<div>\n",
              "<style scoped>\n",
              "    .dataframe tbody tr th:only-of-type {\n",
              "        vertical-align: middle;\n",
              "    }\n",
              "\n",
              "    .dataframe tbody tr th {\n",
              "        vertical-align: top;\n",
              "    }\n",
              "\n",
              "    .dataframe thead th {\n",
              "        text-align: right;\n",
              "    }\n",
              "</style>\n",
              "<table border=\"1\" class=\"dataframe\">\n",
              "  <thead>\n",
              "    <tr style=\"text-align: right;\">\n",
              "      <th></th>\n",
              "      <th>count</th>\n",
              "      <th>unique</th>\n",
              "      <th>top</th>\n",
              "      <th>freq</th>\n",
              "    </tr>\n",
              "  </thead>\n",
              "  <tbody>\n",
              "    <tr>\n",
              "      <th>user_id</th>\n",
              "      <td>10037</td>\n",
              "      <td>7309</td>\n",
              "      <td>a100000882</td>\n",
              "      <td>12</td>\n",
              "    </tr>\n",
              "    <tr>\n",
              "      <th>date_served</th>\n",
              "      <td>10021</td>\n",
              "      <td>31</td>\n",
              "      <td>1/15/18</td>\n",
              "      <td>789</td>\n",
              "    </tr>\n",
              "    <tr>\n",
              "      <th>marketing_channel</th>\n",
              "      <td>10022</td>\n",
              "      <td>5</td>\n",
              "      <td>House Ads</td>\n",
              "      <td>4733</td>\n",
              "    </tr>\n",
              "    <tr>\n",
              "      <th>variant</th>\n",
              "      <td>10037</td>\n",
              "      <td>2</td>\n",
              "      <td>control</td>\n",
              "      <td>5091</td>\n",
              "    </tr>\n",
              "    <tr>\n",
              "      <th>converted</th>\n",
              "      <td>10022</td>\n",
              "      <td>2</td>\n",
              "      <td>False</td>\n",
              "      <td>8946</td>\n",
              "    </tr>\n",
              "    <tr>\n",
              "      <th>language_displayed</th>\n",
              "      <td>10037</td>\n",
              "      <td>4</td>\n",
              "      <td>English</td>\n",
              "      <td>9793</td>\n",
              "    </tr>\n",
              "    <tr>\n",
              "      <th>language_preferred</th>\n",
              "      <td>10037</td>\n",
              "      <td>4</td>\n",
              "      <td>English</td>\n",
              "      <td>9275</td>\n",
              "    </tr>\n",
              "    <tr>\n",
              "      <th>age_group</th>\n",
              "      <td>10037</td>\n",
              "      <td>7</td>\n",
              "      <td>19-24 years</td>\n",
              "      <td>1682</td>\n",
              "    </tr>\n",
              "    <tr>\n",
              "      <th>date_subscribed</th>\n",
              "      <td>1856</td>\n",
              "      <td>31</td>\n",
              "      <td>1/16/18</td>\n",
              "      <td>163</td>\n",
              "    </tr>\n",
              "    <tr>\n",
              "      <th>date_canceled</th>\n",
              "      <td>577</td>\n",
              "      <td>115</td>\n",
              "      <td>4/2/18</td>\n",
              "      <td>15</td>\n",
              "    </tr>\n",
              "    <tr>\n",
              "      <th>subscribing_channel</th>\n",
              "      <td>1856</td>\n",
              "      <td>5</td>\n",
              "      <td>Instagram</td>\n",
              "      <td>600</td>\n",
              "    </tr>\n",
              "    <tr>\n",
              "      <th>is_retained</th>\n",
              "      <td>1856</td>\n",
              "      <td>2</td>\n",
              "      <td>True</td>\n",
              "      <td>1279</td>\n",
              "    </tr>\n",
              "  </tbody>\n",
              "</table>\n",
              "</div>"
            ],
            "text/plain": [
              "                     count unique          top  freq\n",
              "user_id              10037   7309   a100000882    12\n",
              "date_served          10021     31      1/15/18   789\n",
              "marketing_channel    10022      5    House Ads  4733\n",
              "variant              10037      2      control  5091\n",
              "converted            10022      2        False  8946\n",
              "language_displayed   10037      4      English  9793\n",
              "language_preferred   10037      4      English  9275\n",
              "age_group            10037      7  19-24 years  1682\n",
              "date_subscribed       1856     31      1/16/18   163\n",
              "date_canceled          577    115       4/2/18    15\n",
              "subscribing_channel   1856      5    Instagram   600\n",
              "is_retained           1856      2         True  1279"
            ]
          },
          "metadata": {
            "tags": []
          },
          "execution_count": 50
        }
      ]
    },
    {
      "cell_type": "markdown",
      "metadata": {
        "id": "CSvlbfje1DPy"
      },
      "source": [
        "En utilisant les données, répondons aux questions très importantes pour l'entreprise"
      ]
    },
    {
      "cell_type": "markdown",
      "metadata": {
        "id": "6loL1tLW1USu"
      },
      "source": [
        "**CANAUX MARKETING UTLISES PAR L'ENTREPRISE**"
      ]
    },
    {
      "cell_type": "code",
      "metadata": {
        "colab": {
          "base_uri": "https://localhost:8080/"
        },
        "id": "GV9LvCUy1B0e",
        "outputId": "d65fcb34-a697-45b4-eb31-7ca889cec7e6"
      },
      "source": [
        "marketing_df['marketing_channel'].value_counts()"
      ],
      "execution_count": 51,
      "outputs": [
        {
          "output_type": "execute_result",
          "data": {
            "text/plain": [
              "House Ads    4733\n",
              "Instagram    1871\n",
              "Facebook     1860\n",
              "Push          993\n",
              "Email         565\n",
              "Name: marketing_channel, dtype: int64"
            ]
          },
          "metadata": {
            "tags": []
          },
          "execution_count": 51
        }
      ]
    },
    {
      "cell_type": "code",
      "metadata": {
        "colab": {
          "base_uri": "https://localhost:8080/"
        },
        "id": "1rwOWJj21quu",
        "outputId": "bbca918c-7501-450d-927a-85d97caa6543"
      },
      "source": [
        "#Pour avoir plutôt la proportion\n",
        "marketing_df['marketing_channel'].value_counts(normalize=True)"
      ],
      "execution_count": 52,
      "outputs": [
        {
          "output_type": "execute_result",
          "data": {
            "text/plain": [
              "House Ads    0.472261\n",
              "Instagram    0.186689\n",
              "Facebook     0.185592\n",
              "Push         0.099082\n",
              "Email        0.056376\n",
              "Name: marketing_channel, dtype: float64"
            ]
          },
          "metadata": {
            "tags": []
          },
          "execution_count": 52
        }
      ]
    },
    {
      "cell_type": "markdown",
      "metadata": {
        "id": "8a0GOQuJ2NK_"
      },
      "source": [
        "L'Entreprise utilise majoritairement( un peu plus de  47%) les annonces auto-promotionnelles."
      ]
    },
    {
      "cell_type": "code",
      "metadata": {
        "colab": {
          "base_uri": "https://localhost:8080/",
          "height": 445
        },
        "id": "sj4fh6cY2Aja",
        "outputId": "46c6c220-6aa1-497b-f827-44494a4acd06"
      },
      "source": [
        "#canaux marketing\n",
        "plt.figure(figsize=(7,7))\n",
        "marketing_df['marketing_channel'].value_counts(normalize=True).plot(kind='pie')\n",
        "plt.title('canaux marketing')"
      ],
      "execution_count": 53,
      "outputs": [
        {
          "output_type": "execute_result",
          "data": {
            "text/plain": [
              "Text(0.5, 1.0, 'canaux marketing')"
            ]
          },
          "metadata": {
            "tags": []
          },
          "execution_count": 53
        },
        {
          "output_type": "display_data",
          "data": {
            "image/png": "[encoded data removed]",
            "text/plain": [
              "<Figure size 504x504 with 1 Axes>"
            ]
          },
          "metadata": {
            "tags": []
          }
        }
      ]
    },
    {
      "cell_type": "markdown",
      "metadata": {
        "id": "Ovdpgn5DFC9s"
      },
      "source": [
        "**VARABLES DE DATES AU FORMAT DATETIME**"
      ]
    },
    {
      "cell_type": "code",
      "metadata": {
        "id": "vkxMdOXiFNqP"
      },
      "source": [
        "#Changement dutype de certaines colonnes \n",
        "col_date=['date_served', 'date_subscribed', 'date_canceled']"
      ],
      "execution_count": 54,
      "outputs": []
    },
    {
      "cell_type": "code",
      "metadata": {
        "id": "o94ERDXlPkUj"
      },
      "source": [
        "for col in col_date:\n",
        "  marketing_df[col]=pd.to_datetime(marketing_df[col])"
      ],
      "execution_count": 55,
      "outputs": []
    },
    {
      "cell_type": "code",
      "metadata": {
        "colab": {
          "base_uri": "https://localhost:8080/"
        },
        "id": "CDyYZRoOP2yX",
        "outputId": "4ec7cdd9-5b6d-47b1-c353-f65bf11b9deb"
      },
      "source": [
        "#Vérification\n",
        "marketing_df.dtypes"
      ],
      "execution_count": 56,
      "outputs": [
        {
          "output_type": "execute_result",
          "data": {
            "text/plain": [
              "user_id                        object\n",
              "date_served            datetime64[ns]\n",
              "marketing_channel              object\n",
              "variant                        object\n",
              "converted                      object\n",
              "language_displayed             object\n",
              "language_preferred             object\n",
              "age_group                      object\n",
              "date_subscribed        datetime64[ns]\n",
              "date_canceled          datetime64[ns]\n",
              "subscribing_channel            object\n",
              "is_retained                    object\n",
              "dtype: object"
            ]
          },
          "metadata": {
            "tags": []
          },
          "execution_count": 56
        }
      ]
    },
    {
      "cell_type": "markdown",
      "metadata": {
        "id": "tDc03pv3QDIU"
      },
      "source": [
        "*Les variables dates sont maintenant au bon format.*"
      ]
    },
    {
      "cell_type": "code",
      "metadata": {
        "colab": {
          "base_uri": "https://localhost:8080/"
        },
        "id": "FCTuSrqyQdEK",
        "outputId": "043bb7f7-688c-4f68-c30a-73588a88ef7f"
      },
      "source": [
        "#quel nombre d'utilisateurs retenus par la campagne de marketing?\n",
        "#nombre d'utilisateur retenus:\n",
        "marketing_df['is_retained'].sum()"
      ],
      "execution_count": 57,
      "outputs": [
        {
          "output_type": "execute_result",
          "data": {
            "text/plain": [
              "1279"
            ]
          },
          "metadata": {
            "tags": []
          },
          "execution_count": 57
        }
      ]
    },
    {
      "cell_type": "markdown",
      "metadata": {
        "id": "HSuC3yNkRDuA"
      },
      "source": [
        "1279 utilsateurs sont retenus par la campagne de marketing . Soit 69% des utilisateurs"
      ]
    },
    {
      "cell_type": "code",
      "metadata": {
        "colab": {
          "base_uri": "https://localhost:8080/"
        },
        "id": "nwVpgFBMRhOV",
        "outputId": "59456d6c-6b36-48d5-ed23-afc1e2e75e68"
      },
      "source": [
        "marketing_df['is_retained'].value_counts(normalize=True)"
      ],
      "execution_count": 58,
      "outputs": [
        {
          "output_type": "execute_result",
          "data": {
            "text/plain": [
              "True     0.689116\n",
              "False    0.310884\n",
              "Name: is_retained, dtype: float64"
            ]
          },
          "metadata": {
            "tags": []
          },
          "execution_count": 58
        }
      ]
    },
    {
      "cell_type": "markdown",
      "metadata": {
        "id": "IJv01v8FSC6Y"
      },
      "source": [
        "**Création des nouvelles colonnes**"
      ]
    },
    {
      "cell_type": "markdown",
      "metadata": {
        "id": "FAblA2PMSJFm"
      },
      "source": [
        "Lors d'une analyse de données, on peut être amené à créer de nouvelles variables à partir de celles existantes. Nous allons créer une nouvelle variable par encodage des modalités de la variable **subscribing_channel**"
      ]
    },
    {
      "cell_type": "code",
      "metadata": {
        "id": "0MHlZxlAS1_Y"
      },
      "source": [
        ""
      ],
      "execution_count": 58,
      "outputs": []
    }
  ]
}